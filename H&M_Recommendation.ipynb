{
 "cells": [
  {
   "cell_type": "code",
   "execution_count": 2,
   "id": "c08f1367",
   "metadata": {},
   "outputs": [],
   "source": [
    "import pyspark\n",
    "from pyspark.sql import SparkSession\n",
    "from pyspark.sql.types import StructType,StructField, StringType, IntegerType \n",
    "from pyspark.sql.types import ArrayType, DoubleType, BooleanType\n",
    "from pyspark.sql.functions import col,array_contains\n",
    "from pyspark.sql import SQLContext \n",
    "from pyspark.ml.recommendation import ALS\n",
    "from pyspark.sql.functions import udf,col,when\n",
    "from pyspark.sql.functions import to_timestamp,date_format\n",
    "import numpy as np\n",
    "import pandas as pd\n",
    "from pyspark.sql.types import *\n",
    "from pyspark.sql.functions import *\n",
    "from pyspark.sql.window import *\n",
    "\n",
    "sc = SparkSession.builder.appName(\"Recommendations\").config(\"spark.sql.files.maxPartitionBytes\", 5000000).getOrCreate()\n",
    "spark = SparkSession(sc)"
   ]
  },
  {
   "cell_type": "code",
   "execution_count": 3,
   "id": "405b8609",
   "metadata": {},
   "outputs": [
    {
     "name": "stdout",
     "output_type": "stream",
     "text": [
      "root\n",
      " |-- t_dat: string (nullable = true)\n",
      " |-- customer_id: string (nullable = true)\n",
      " |-- article_id: string (nullable = true)\n",
      " |-- price: string (nullable = true)\n",
      " |-- sales_channel_id: string (nullable = true)\n",
      "\n"
     ]
    }
   ],
   "source": [
    "transaction = spark.read.option(\"header\",True) \\\n",
    "              .csv(\"transactions_train.csv\")\n",
    "transaction.printSchema()"
   ]
  },
  {
   "cell_type": "code",
   "execution_count": 4,
   "id": "57253a80",
   "metadata": {},
   "outputs": [
    {
     "data": {
      "text/plain": [
       "('2018-09-20', '2020-09-22')"
      ]
     },
     "execution_count": 4,
     "metadata": {},
     "output_type": "execute_result"
    }
   ],
   "source": [
    "from pyspark.sql.functions import min, max\n",
    "from pyspark.sql.functions import unix_timestamp, lit\n",
    "min_date, max_date = transaction.select(min(\"t_dat\"), max(\"t_dat\")).first()\n",
    "min_date, max_date"
   ]
  },
  {
   "cell_type": "code",
   "execution_count": 5,
   "id": "2bcd8ad6",
   "metadata": {},
   "outputs": [
    {
     "name": "stdout",
     "output_type": "stream",
     "text": [
      "+--------------------+----------+-----+\n",
      "|         customer_id|article_id|count|\n",
      "+--------------------+----------+-----+\n",
      "|00f7bc5c0df4c615b...|0780418013|    1|\n",
      "|02094817e46f3b692...|0791587001|    1|\n",
      "|0333e5dda0257e9f4...|0839332002|    2|\n",
      "|07c7a1172caf8fb97...|0573085043|    1|\n",
      "|081373184e601470c...|0714790020|    1|\n",
      "|09bec2a61046ccbea...|0860336002|    1|\n",
      "|0be4f1ecce204ee32...|0573085028|    1|\n",
      "|0c4b30343292b5101...|0918522001|    1|\n",
      "|0e10e02358875468b...|0579541001|    1|\n",
      "|0fc371e67e61a31d7...|0907170001|    1|\n",
      "|10817b19177f6a53e...|0718278019|    1|\n",
      "|10ac90988da6052dd...|0934212003|    1|\n",
      "|14a298482fa7f9d52...|0894353002|    1|\n",
      "|14f4b1b17991c32d2...|0803685001|    1|\n",
      "|1601fa3c3f39aa623...|0730683001|    1|\n",
      "|164e1a251f0e3d764...|0831267001|    1|\n",
      "|165d2c0b0128d5619...|0909081004|    1|\n",
      "|166546028742fe655...|0767423013|    1|\n",
      "|189b7275c513a84c8...|0877711001|    1|\n",
      "|1918933afff08e955...|0914672001|    1|\n",
      "+--------------------+----------+-----+\n",
      "only showing top 20 rows\n",
      "\n"
     ]
    }
   ],
   "source": [
    "hm =  transaction.withColumn('t_dat', transaction['t_dat'].cast('string'))\n",
    "hm = hm.withColumn('date', from_unixtime(unix_timestamp('t_dat', 'yyyy-MM-dd')))\n",
    "hm = hm.withColumn('year', year(col('date')))\n",
    "hm = hm.withColumn('month', month(col('date')))\n",
    "hm = hm.withColumn('day', date_format(col('date'), \"d\"))\n",
    "\n",
    "hm = hm[hm['year'] == 2020]\n",
    "hm = hm[hm['month'] == 9]\n",
    "hm = hm[hm['day'] == 22]\n",
    "transaction.unpersist()\n",
    "\n",
    "# Prepare the dataset\n",
    "hm = hm.groupby('customer_id', 'article_id').count()\n",
    "hm.show()"
   ]
  },
  {
   "cell_type": "code",
   "execution_count": 5,
   "id": "de20adc1",
   "metadata": {},
   "outputs": [
    {
     "name": "stdout",
     "output_type": "stream",
     "text": [
      "(29486, 3)\n"
     ]
    }
   ],
   "source": [
    "print((hm.count(), len(hm.columns)))"
   ]
  },
  {
   "cell_type": "code",
   "execution_count": 6,
   "id": "cfb5b693",
   "metadata": {},
   "outputs": [
    {
     "name": "stdout",
     "output_type": "stream",
     "text": [
      "Sparsity:  99.96%.\n"
     ]
    }
   ],
   "source": [
    "# Count the total number of article count in the dataset\n",
    "numerator = hm.select(\"count\").count()\n",
    "\n",
    "# Count the number of distinct customerid and distinct articleid\n",
    "num_users = hm.select(\"customer_id\").distinct().count()\n",
    "num_articles = hm.select(\"article_id\").distinct().count()\n",
    "\n",
    "# Set the denominator equal to the number of customer multiplied by the number of articles\n",
    "denominator = num_users * num_articles\n",
    "\n",
    "# Divide the numerator by the denominator\n",
    "sparsity = (1.0 - (numerator *1.0)/denominator)*100\n",
    "print(\"Sparsity: \", \"%.2f\" % sparsity + \"%.\")"
   ]
  },
  {
   "cell_type": "code",
   "execution_count": 7,
   "id": "46fb2cd4",
   "metadata": {},
   "outputs": [
    {
     "name": "stdout",
     "output_type": "stream",
     "text": [
      "+--------------------+-----+\n",
      "|         customer_id|count|\n",
      "+--------------------+-----+\n",
      "|30b6056bacc5f5c9d...|   28|\n",
      "|5e8fb4d457fdffc61...|   28|\n",
      "|dc1b173e541f8d3c1...|   27|\n",
      "|6335d496ef463bc40...|   25|\n",
      "|1796e87fd2e88932b...|   25|\n",
      "|f50287d9cf052d4b4...|   24|\n",
      "|54e8ebd39543b5a4d...|   23|\n",
      "|fd5ce8716faf00f6a...|   23|\n",
      "|850ec77661a417d27...|   22|\n",
      "|ad3663a848dccbdda...|   21|\n",
      "|32f3a6a7ce63d302c...|   21|\n",
      "|b606fe5786c00151a...|   21|\n",
      "|298523b6637340717...|   21|\n",
      "|b49647f84a99ced53...|   21|\n",
      "|fc783381f1ea2174c...|   21|\n",
      "|a08e284bb18add2d7...|   21|\n",
      "|383e1b07e2c1fe169...|   21|\n",
      "|3ca77aab50ae4532b...|   20|\n",
      "|2a721767cd9864ed5...|   20|\n",
      "|af5166e0f89b0d433...|   19|\n",
      "+--------------------+-----+\n",
      "only showing top 20 rows\n",
      "\n"
     ]
    }
   ],
   "source": [
    "userId_count = hm.groupBy(\"customer_id\").count().orderBy('count', ascending=False)\n",
    "userId_count.show()"
   ]
  },
  {
   "cell_type": "code",
   "execution_count": 8,
   "id": "31363649",
   "metadata": {},
   "outputs": [
    {
     "name": "stdout",
     "output_type": "stream",
     "text": [
      "+----------+-----+\n",
      "|article_id|count|\n",
      "+----------+-----+\n",
      "|0924243002|   91|\n",
      "|0918522001|   88|\n",
      "|0866731001|   78|\n",
      "|0751471001|   75|\n",
      "|0448509014|   73|\n",
      "|0714790020|   72|\n",
      "|0762846027|   68|\n",
      "|0928206001|   67|\n",
      "|0893432002|   66|\n",
      "|0918292001|   65|\n",
      "|0915529005|   64|\n",
      "|0788575004|   63|\n",
      "|0915529003|   63|\n",
      "|0863583001|   60|\n",
      "|0930380001|   59|\n",
      "|0573085028|   59|\n",
      "|0919273002|   58|\n",
      "|0850917001|   57|\n",
      "|0573085042|   56|\n",
      "|0874110016|   53|\n",
      "+----------+-----+\n",
      "only showing top 20 rows\n",
      "\n"
     ]
    }
   ],
   "source": [
    "articleId_count = hm.groupBy(\"article_id\").count().orderBy('count', ascending=False)\n",
    "articleId_count.show()"
   ]
  },
  {
   "cell_type": "code",
   "execution_count": 9,
   "id": "1e12f030",
   "metadata": {},
   "outputs": [],
   "source": [
    "from pyspark.ml.evaluation import RegressionEvaluator\n",
    "from pyspark.ml.recommendation import ALS"
   ]
  },
  {
   "cell_type": "code",
   "execution_count": 10,
   "id": "3e6b6275",
   "metadata": {},
   "outputs": [
    {
     "name": "stdout",
     "output_type": "stream",
     "text": [
      "+--------------------+----------+-----+-----------------+----------------+\n",
      "|         customer_id|article_id|count|customer_id_index|article_id_index|\n",
      "+--------------------+----------+-----+-----------------+----------------+\n",
      "|00f7bc5c0df4c615b...|0780418013|    1|            783.0|          2237.0|\n",
      "|02094817e46f3b692...|0791587001|    1|            785.0|            35.0|\n",
      "|0333e5dda0257e9f4...|0839332002|    2|           4098.0|           732.0|\n",
      "|07c7a1172caf8fb97...|0573085043|    1|           1702.0|            44.0|\n",
      "|081373184e601470c...|0714790020|    1|           4146.0|             5.0|\n",
      "|09bec2a61046ccbea...|0860336002|    1|           6792.0|          2368.0|\n",
      "|0be4f1ecce204ee32...|0573085028|    1|            799.0|            14.0|\n",
      "|0c4b30343292b5101...|0918522001|    1|           6825.0|             1.0|\n",
      "|0e10e02358875468b...|0579541001|    1|           2689.0|            53.0|\n",
      "|0fc371e67e61a31d7...|0907170001|    1|           1737.0|          1978.0|\n",
      "|10817b19177f6a53e...|0718278019|    1|            805.0|           419.0|\n",
      "|10ac90988da6052dd...|0934212003|    1|            806.0|          2058.0|\n",
      "|14a298482fa7f9d52...|0894353002|    1|             87.0|          3772.0|\n",
      "|14f4b1b17991c32d2...|0803685001|    1|           1184.0|           725.0|\n",
      "|1601fa3c3f39aa623...|0730683001|    1|           4284.0|          2994.0|\n",
      "|164e1a251f0e3d764...|0831267001|    1|           4287.0|          5979.0|\n",
      "|165d2c0b0128d5619...|0909081004|    1|             88.0|          1293.0|\n",
      "|166546028742fe655...|0767423013|    1|            814.0|           974.0|\n",
      "|189b7275c513a84c8...|0877711001|    1|            204.0|          6890.0|\n",
      "|1918933afff08e955...|0914672001|    1|            285.0|          7685.0|\n",
      "+--------------------+----------+-----+-----------------+----------------+\n",
      "only showing top 20 rows\n",
      "\n"
     ]
    }
   ],
   "source": [
    "#Converting String to index\n",
    "from pyspark.ml.feature import StringIndexer\n",
    "from pyspark.ml import Pipeline\n",
    "from pyspark.sql.functions import col\n",
    "indexer = [StringIndexer(inputCol=column, outputCol=column+\"_index\") for column in list(set(hm.columns)-set(['count'])) ]\n",
    "pipeline = Pipeline(stages=indexer)\n",
    "transformed = pipeline.fit(hm).transform(hm)\n",
    "transformed.show()"
   ]
  },
  {
   "cell_type": "code",
   "execution_count": 11,
   "id": "04f1fb7c",
   "metadata": {},
   "outputs": [],
   "source": [
    "(training,test)=transformed.randomSplit([0.8, 0.2])"
   ]
  },
  {
   "cell_type": "code",
   "execution_count": 12,
   "id": "d1026d4f",
   "metadata": {},
   "outputs": [],
   "source": [
    "#Creating ALS model and fitting data\n",
    "als=ALS(maxIter=5,regParam=0.09,rank=25,userCol=\"customer_id_index\",itemCol=\"article_id_index\",ratingCol=\"count\",coldStartStrategy=\"drop\",nonnegative=True)\n",
    "model=als.fit(training)"
   ]
  },
  {
   "cell_type": "code",
   "execution_count": 13,
   "id": "9c4dfe67",
   "metadata": {},
   "outputs": [],
   "source": [
    "evaluator=RegressionEvaluator(metricName=\"rmse\",labelCol=\"count\",predictionCol=\"prediction\")\n",
    "predictions=model.transform(test)\n",
    "rmse=evaluator.evaluate(predictions)\n"
   ]
  },
  {
   "cell_type": "code",
   "execution_count": 14,
   "id": "2d6166da",
   "metadata": {},
   "outputs": [
    {
     "name": "stdout",
     "output_type": "stream",
     "text": [
      "RMSE=0.47922604279966746\n"
     ]
    }
   ],
   "source": [
    "print(\"RMSE=\"+str(rmse))"
   ]
  },
  {
   "cell_type": "code",
   "execution_count": 15,
   "id": "ec2bbecf",
   "metadata": {},
   "outputs": [
    {
     "name": "stdout",
     "output_type": "stream",
     "text": [
      "+--------------------+----------+-----+-----------------+----------------+----------+\n",
      "|         customer_id|article_id|count|customer_id_index|article_id_index|prediction|\n",
      "+--------------------+----------+-----+-----------------+----------------+----------+\n",
      "|1f4d4f43ace92c96f...|0902419001|    1|            148.0|           280.0| 1.1043952|\n",
      "|1f4d4f43ace92c96f...|0910448001|    1|            148.0|          2605.0|0.82738125|\n",
      "|1f4d4f43ace92c96f...|0922037001|    1|            148.0|          1624.0| 0.8225643|\n",
      "|47b77e73dd60193bc...|0826498001|    1|           1959.0|          1182.0|0.93602675|\n",
      "|6e31154ec977d9074...|0579541072|    1|           1342.0|          1365.0|0.78117466|\n",
      "|6e31154ec977d9074...|0898350001|    1|           1342.0|          2537.0| 0.5135857|\n",
      "|c61f3119ea64671ca...|0875217002|    1|            496.0|           874.0| 0.7637671|\n",
      "|f33b01d62c213df7e...|0598755001|    1|           3997.0|           522.0| 0.7098505|\n",
      "|0066eb74327937182...|0850917001|    1|            540.0|            17.0|0.84922856|\n",
      "|0b5ebe9da2044d92e...|0767423001|    1|           1721.0|            87.0| 0.9331052|\n",
      "|2049c3284b38667ed...|0896169002|    1|           2811.0|            73.0| 1.1848911|\n",
      "|63f8173b620eff63f...|0756322009|    1|           3226.0|          1415.0| 1.4444892|\n",
      "|933a2a8c3213ed978...|0897089005|    1|            243.0|          2528.0| 0.9293337|\n",
      "|9526c01829ecf07e6...|0730683019|    1|           2235.0|           958.0| 0.7892915|\n",
      "|9526c01829ecf07e6...|0851094001|    1|           2235.0|          3438.0| 0.8229878|\n",
      "|c0e9e91652d925658...|0562245015|    1|           1522.0|          1677.0| 0.8859086|\n",
      "|ca3b74d13649df83a...|0886566001|    1|            737.0|            24.0| 0.8740871|\n",
      "|d5aeac997983597cb...|0685813042|    1|           1084.0|           469.0| 1.1881434|\n",
      "|32210e981f60ef8bc...|0733803001|    1|             31.0|           260.0| 0.9999248|\n",
      "|32210e981f60ef8bc...|0875635003|    1|             31.0|           567.0|0.84469765|\n",
      "+--------------------+----------+-----+-----------------+----------------+----------+\n",
      "only showing top 20 rows\n",
      "\n"
     ]
    }
   ],
   "source": [
    "predictions.show()"
   ]
  },
  {
   "cell_type": "code",
   "execution_count": 16,
   "id": "d77616e0",
   "metadata": {},
   "outputs": [
    {
     "name": "stderr",
     "output_type": "stream",
     "text": [
      "C:\\Users\\Dinesh_PC\\anaconda3\\lib\\site-packages\\pyspark\\sql\\context.py:125: FutureWarning: Deprecated in 3.0.0. Use SparkSession.builder.getOrCreate() instead.\n",
      "  warnings.warn(\n"
     ]
    },
    {
     "name": "stdout",
     "output_type": "stream",
     "text": [
      "+----------------+--------------------+\n",
      "|article_id_index|     recommendations|\n",
      "+----------------+--------------------+\n",
      "|               1|[{4907, 4.023111}...|\n",
      "|              12|[{4907, 5.1407924...|\n",
      "|              13|[{4907, 4.8948035...|\n",
      "|              22|[{4907, 4.967992}...|\n",
      "|              26|[{4907, 5.1711617...|\n",
      "|              27|[{9001, 4.4441276...|\n",
      "|              28|[{4907, 4.238902}...|\n",
      "|              31|[{4907, 5.0039315...|\n",
      "|              34|[{9001, 5.5608296...|\n",
      "|              44|[{9001, 4.0315247...|\n",
      "+----------------+--------------------+\n",
      "only showing top 10 rows\n",
      "\n"
     ]
    }
   ],
   "source": [
    "#Providing Recommendations by Article id\n",
    "user_recs=model.recommendForAllItems(10).show(10)"
   ]
  },
  {
   "cell_type": "code",
   "execution_count": 17,
   "id": "739fcf3c",
   "metadata": {},
   "outputs": [
    {
     "name": "stdout",
     "output_type": "stream",
     "text": [
      "+-----------------+--------------------+\n",
      "|customer_id_index|     recommendations|\n",
      "+-----------------+--------------------+\n",
      "|                1|[{6383, 3.007121}...|\n",
      "|               12|[{1891, 3.2939425...|\n",
      "|               13|[{1661, 3.1329327...|\n",
      "|               22|[{5040, 5.125327}...|\n",
      "|               26|[{4146, 2.883401}...|\n",
      "|               27|[{4146, 2.9115942...|\n",
      "|               28|[{4146, 2.9942784...|\n",
      "|               31|[{4146, 2.6066234...|\n",
      "|               34|[{6383, 2.5930874...|\n",
      "|               44|[{5040, 2.973228}...|\n",
      "+-----------------+--------------------+\n",
      "only showing top 10 rows\n",
      "\n"
     ]
    }
   ],
   "source": [
    "#Providing Recommendations by Customer id\n",
    "item_recs=model.recommendForAllUsers(10).show(10)"
   ]
  },
  {
   "cell_type": "code",
   "execution_count": 18,
   "id": "a082cf8c",
   "metadata": {},
   "outputs": [
    {
     "name": "stdout",
     "output_type": "stream",
     "text": [
      "Wall time: 3min 47s\n"
     ]
    },
    {
     "data": {
      "text/plain": [
       "9656"
      ]
     },
     "execution_count": 18,
     "metadata": {},
     "output_type": "execute_result"
    }
   ],
   "source": [
    "%%time\n",
    "userRecsDf = model.recommendForAllUsers(10).cache()\n",
    "userRecsDf.count()"
   ]
  },
  {
   "cell_type": "code",
   "execution_count": 19,
   "id": "8578d32f",
   "metadata": {},
   "outputs": [
    {
     "name": "stdout",
     "output_type": "stream",
     "text": [
      "root\n",
      " |-- customer_id_index: integer (nullable = false)\n",
      " |-- recommendations: array (nullable = true)\n",
      " |    |-- element: struct (containsNull = true)\n",
      " |    |    |-- article_id_index: integer (nullable = true)\n",
      " |    |    |-- rating: float (nullable = true)\n",
      "\n"
     ]
    }
   ],
   "source": [
    "userRecsDf.printSchema()"
   ]
  },
  {
   "cell_type": "code",
   "execution_count": 20,
   "id": "db4190ad",
   "metadata": {},
   "outputs": [
    {
     "name": "stdout",
     "output_type": "stream",
     "text": [
      "+-----------------+------------------------------------------------------------+\n",
      "|customer_id_index|article_id_index                                            |\n",
      "+-----------------+------------------------------------------------------------+\n",
      "|1580             |[4146, 6383, 5040, 1891, 1661, 3018, 4405, 1035, 5111, 1221]|\n",
      "|5300             |[4146, 1891, 1661, 3018, 5040, 6383, 4405, 3870, 5891, 1221]|\n",
      "|6620             |[5040, 6383, 1891, 1661, 3018, 4146, 3870, 5111, 4405, 1035]|\n",
      "|7340             |[4146, 1661, 3018, 1891, 6383, 5040, 4405, 5111, 1035, 3031]|\n",
      "|7880             |[3013, 4146, 7828, 6874, 1661, 354, 7398, 2126, 2979, 1221] |\n",
      "|9900             |[1891, 5040, 6383, 7093, 7092, 2151, 2917, 690, 1661, 294]  |\n",
      "|471              |[5040, 6383, 1891, 1661, 3018, 4146, 3870, 2511, 4910, 3869]|\n",
      "|1591             |[5040, 6383, 4146, 1661, 1891, 3018, 4405, 2511, 1035, 3870]|\n",
      "|4101             |[1891, 3013, 6383, 5040, 6874, 3018, 1035, 4862, 7707, 3750]|\n",
      "|1342             |[5040, 6383, 1891, 1661, 4146, 3018, 1035, 4405, 2770, 3013]|\n",
      "+-----------------+------------------------------------------------------------+\n",
      "only showing top 10 rows\n",
      "\n"
     ]
    }
   ],
   "source": [
    "userRecsDf.select(\"customer_id_index\",\"recommendations.article_id_index\").show(10,False)"
   ]
  },
  {
   "cell_type": "code",
   "execution_count": 21,
   "id": "6b498756",
   "metadata": {},
   "outputs": [
    {
     "data": {
      "text/plain": [
       "430"
      ]
     },
     "execution_count": 21,
     "metadata": {},
     "output_type": "execute_result"
    }
   ],
   "source": [
    "import gc #This is to free up the memory\n",
    "gc.collect()"
   ]
  },
  {
   "cell_type": "code",
   "execution_count": 22,
   "id": "c690b0fc",
   "metadata": {},
   "outputs": [],
   "source": [
    "#Converting back to string form\n",
    "from pyspark.ml.evaluation import RegressionEvaluator\n",
    "from pyspark.ml.recommendation import ALS\n",
    "from pyspark.sql import Row\n",
    "import pandas as pd\n",
    "recs=model.recommendForAllUsers(10).toPandas()\n",
    "nrecs=recs.recommendations.apply(pd.Series) \\\n",
    "            .merge(recs, right_index = True, left_index = True) \\\n",
    "            .drop([\"recommendations\"], axis = 1) \\\n",
    "            .melt(id_vars = ['customer_id_index'], value_name = \"recommendations\") \\\n",
    "            .drop(\"variable\", axis = 1) \\\n",
    "            .dropna() \n",
    "nrecs=nrecs.sort_values('customer_id_index')\n",
    "nrecs=pd.concat([nrecs['recommendations'].apply(pd.Series), nrecs['customer_id_index']], axis = 1)\n"
   ]
  },
  {
   "cell_type": "code",
   "execution_count": 23,
   "id": "a35a79a1",
   "metadata": {},
   "outputs": [],
   "source": [
    "nrecs.columns = ['ArticleID_index','count','UserID_index']\n",
    "md=transformed.select(transformed['article_id'],transformed['article_id_index'],transformed['customer_id'],transformed['customer_id_index'])\n",
    "md=md.toPandas()\n"
   ]
  },
  {
   "cell_type": "code",
   "execution_count": 24,
   "id": "57dcefa0",
   "metadata": {},
   "outputs": [],
   "source": [
    "dict1 =dict(zip(md['article_id_index'],md['article_id']))\n",
    "dict2=dict(zip(md['customer_id_index'],md['customer_id']))\n",
    "nrecs['article_id']=nrecs['ArticleID_index'].map(dict1)\n",
    "nrecs['customer_id']=nrecs['UserID_index'].map(dict2)"
   ]
  },
  {
   "cell_type": "code",
   "execution_count": 25,
   "id": "08c0b010",
   "metadata": {},
   "outputs": [
    {
     "name": "stderr",
     "output_type": "stream",
     "text": [
      "C:\\Users\\DINESH~1\\AppData\\Local\\Temp/ipykernel_14360/2161679587.py:4: SettingWithCopyWarning: \n",
      "A value is trying to be set on a copy of a slice from a DataFrame.\n",
      "Try using .loc[row_indexer,col_indexer] = value instead\n",
      "\n",
      "See the caveats in the documentation: https://pandas.pydata.org/pandas-docs/stable/user_guide/indexing.html#returning-a-view-versus-a-copy\n",
      "  new['recommendations'] = list(new.article_id)\n"
     ]
    }
   ],
   "source": [
    "nrecs=nrecs.sort_values('customer_id')\n",
    "nrecs.reset_index(drop=True, inplace=True)\n",
    "new=nrecs[['customer_id','article_id','count']]\n",
    "new['recommendations'] = list(new.article_id)\n",
    "res=new[['customer_id','recommendations']]  \n",
    "res_new=res['recommendations'].groupby([res.customer_id]).apply(list).reset_index()\n",
    "#print(res_new)"
   ]
  },
  {
   "cell_type": "code",
   "execution_count": 26,
   "id": "262fde18",
   "metadata": {},
   "outputs": [
    {
     "data": {
      "text/html": [
       "<div>\n",
       "<style scoped>\n",
       "    .dataframe tbody tr th:only-of-type {\n",
       "        vertical-align: middle;\n",
       "    }\n",
       "\n",
       "    .dataframe tbody tr th {\n",
       "        vertical-align: top;\n",
       "    }\n",
       "\n",
       "    .dataframe thead th {\n",
       "        text-align: right;\n",
       "    }\n",
       "</style>\n",
       "<table border=\"1\" class=\"dataframe\">\n",
       "  <thead>\n",
       "    <tr style=\"text-align: right;\">\n",
       "      <th></th>\n",
       "      <th>customer_id</th>\n",
       "      <th>recommendations</th>\n",
       "    </tr>\n",
       "  </thead>\n",
       "  <tbody>\n",
       "    <tr>\n",
       "      <th>0</th>\n",
       "      <td>0003e867a930d0d6842f923d6ba7c9b77aba33fe2a0fbf...</td>\n",
       "      <td>[0742561003, 0857347002, 0750330003, 087163800...</td>\n",
       "    </tr>\n",
       "    <tr>\n",
       "      <th>1</th>\n",
       "      <td>000525e3fe01600d717da8423643a8303390a055c578ed...</td>\n",
       "      <td>[0757971006, 0871638002, 0316441001, 085734700...</td>\n",
       "    </tr>\n",
       "    <tr>\n",
       "      <th>2</th>\n",
       "      <td>0010e8eb18f131e724d6997909af0808adbba057529edb...</td>\n",
       "      <td>[0872901005, 0750481010, 0316441001, 057104800...</td>\n",
       "    </tr>\n",
       "    <tr>\n",
       "      <th>3</th>\n",
       "      <td>001436e2c83cda28548dd668cfc7d621d70d2baf6f6cf0...</td>\n",
       "      <td>[0316441001, 0516000087, 0297078008, 074256100...</td>\n",
       "    </tr>\n",
       "    <tr>\n",
       "      <th>4</th>\n",
       "      <td>0026ebdd70715d8fa2befa14dfed317a1ffe5451aba839...</td>\n",
       "      <td>[0872901005, 0750481010, 0857347002, 029707800...</td>\n",
       "    </tr>\n",
       "    <tr>\n",
       "      <th>...</th>\n",
       "      <td>...</td>\n",
       "      <td>...</td>\n",
       "    </tr>\n",
       "    <tr>\n",
       "      <th>1995</th>\n",
       "      <td>3372b6226d27ab39d62a1f31e69e761b34f1684f886f93...</td>\n",
       "      <td>[0894481001, 0571048002, 0742561003, 075797100...</td>\n",
       "    </tr>\n",
       "    <tr>\n",
       "      <th>1996</th>\n",
       "      <td>3376dc15b643b7294a24fd4cc31f75fd9fb6811cb1dfb2...</td>\n",
       "      <td>[0903735002, 0883808001, 0757971006, 087290100...</td>\n",
       "    </tr>\n",
       "    <tr>\n",
       "      <th>1997</th>\n",
       "      <td>337780f0c7153a7ca8cf56acc6c86e041d6e983526830d...</td>\n",
       "      <td>[0883808001, 0297078008, 0857347002, 087163800...</td>\n",
       "    </tr>\n",
       "    <tr>\n",
       "      <th>1998</th>\n",
       "      <td>33848752d4704c79d4b9a11acf939fd8cf6b39db5ea4e3...</td>\n",
       "      <td>[0883808001, 0571048002, 0297078008, 031644100...</td>\n",
       "    </tr>\n",
       "    <tr>\n",
       "      <th>1999</th>\n",
       "      <td>3386b2d652f0d3f759adcad39db027491fc6bdfefa79c3...</td>\n",
       "      <td>[0702932001, 0877261003, 0883808001, 087163800...</td>\n",
       "    </tr>\n",
       "  </tbody>\n",
       "</table>\n",
       "<p>2000 rows × 2 columns</p>\n",
       "</div>"
      ],
      "text/plain": [
       "                                            customer_id  \\\n",
       "0     0003e867a930d0d6842f923d6ba7c9b77aba33fe2a0fbf...   \n",
       "1     000525e3fe01600d717da8423643a8303390a055c578ed...   \n",
       "2     0010e8eb18f131e724d6997909af0808adbba057529edb...   \n",
       "3     001436e2c83cda28548dd668cfc7d621d70d2baf6f6cf0...   \n",
       "4     0026ebdd70715d8fa2befa14dfed317a1ffe5451aba839...   \n",
       "...                                                 ...   \n",
       "1995  3372b6226d27ab39d62a1f31e69e761b34f1684f886f93...   \n",
       "1996  3376dc15b643b7294a24fd4cc31f75fd9fb6811cb1dfb2...   \n",
       "1997  337780f0c7153a7ca8cf56acc6c86e041d6e983526830d...   \n",
       "1998  33848752d4704c79d4b9a11acf939fd8cf6b39db5ea4e3...   \n",
       "1999  3386b2d652f0d3f759adcad39db027491fc6bdfefa79c3...   \n",
       "\n",
       "                                        recommendations  \n",
       "0     [0742561003, 0857347002, 0750330003, 087163800...  \n",
       "1     [0757971006, 0871638002, 0316441001, 085734700...  \n",
       "2     [0872901005, 0750481010, 0316441001, 057104800...  \n",
       "3     [0316441001, 0516000087, 0297078008, 074256100...  \n",
       "4     [0872901005, 0750481010, 0857347002, 029707800...  \n",
       "...                                                 ...  \n",
       "1995  [0894481001, 0571048002, 0742561003, 075797100...  \n",
       "1996  [0903735002, 0883808001, 0757971006, 087290100...  \n",
       "1997  [0883808001, 0297078008, 0857347002, 087163800...  \n",
       "1998  [0883808001, 0571048002, 0297078008, 031644100...  \n",
       "1999  [0702932001, 0877261003, 0883808001, 087163800...  \n",
       "\n",
       "[2000 rows x 2 columns]"
      ]
     },
     "execution_count": 26,
     "metadata": {},
     "output_type": "execute_result"
    }
   ],
   "source": [
    "#Final result Recommendations by Customer id\n",
    "res_new[:2000]"
   ]
  }
 ],
 "metadata": {
  "kernelspec": {
   "display_name": "Python 3 (ipykernel)",
   "language": "python",
   "name": "python3"
  },
  "language_info": {
   "codemirror_mode": {
    "name": "ipython",
    "version": 3
   },
   "file_extension": ".py",
   "mimetype": "text/x-python",
   "name": "python",
   "nbconvert_exporter": "python",
   "pygments_lexer": "ipython3",
   "version": "3.9.7"
  }
 },
 "nbformat": 4,
 "nbformat_minor": 5
}
